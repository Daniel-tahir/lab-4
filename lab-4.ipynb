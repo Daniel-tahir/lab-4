{
 "cells": [
  {
   "cell_type": "code",
   "execution_count": 1,
   "id": "d87d3846-a90e-423f-87b2-11a47c4131e5",
   "metadata": {},
   "outputs": [
    {
     "name": "stdout",
     "output_type": "stream",
     "text": [
      "Confusion Matrix:\n",
      " [[ 3  2]\n",
      " [ 0 10]]\n",
      "Accuracy: 0.8666666666666667\n"
     ]
    }
   ],
   "source": [
    "import pandas as pd\n",
    "from sklearn.naive_bayes import CategoricalNB\n",
    "from sklearn.metrics import confusion_matrix, accuracy_score\n",
    "import warnings\n",
    "\n",
    "# Suppress deprecation warning related to pyarrow\n",
    "warnings.filterwarnings('ignore', category=DeprecationWarning)\n",
    "\n",
    "# Creating the DataFrame\n",
    "data = {\n",
    "    \"Weather\": ['Sunny', 'Overcast', 'Rainy', 'Rainy', 'Overcast', 'Sunny', 'Sunny', 'Rainy', 'Sunny', 'Overcast', 'Overcast', 'Rainy', 'Sunny', 'Overcast', 'Rainy'],\n",
    "    \"Temperature\": ['Hot', 'Hot', 'Mild', 'Cool', 'Cool', 'Cool', 'Mild', 'Cool', 'Mild', 'Mild', 'Mild', 'Mild', 'Hot', 'Hot', 'Mild'],\n",
    "    \"Play\": ['No', 'Yes', 'Yes', 'Yes', 'Yes', 'No', 'Yes', 'No', 'Yes', 'Yes', 'Yes', 'Yes', 'No', 'Yes', 'No']\n",
    "}\n",
    "\n",
    "df = pd.DataFrame(data)\n",
    "\n",
    "# Convert categorical features to numerical codes\n",
    "df['Weather'] = df['Weather'].astype('category').cat.codes\n",
    "df['Temperature'] = df['Temperature'].astype('category').cat.codes\n",
    "df['Play'] = df['Play'].astype('category').cat.codes\n",
    "\n",
    "# Define features and target variable\n",
    "X = df[[\"Weather\", \"Temperature\"]]\n",
    "y = df[\"Play\"]\n",
    "\n",
    "# Initialize the model\n",
    "model = CategoricalNB()\n",
    "\n",
    "# Train the model\n",
    "model.fit(X, y)\n",
    "\n",
    "# Make predictions\n",
    "y_pred = model.predict(X)\n",
    "\n",
    "# Evaluate the model\n",
    "conf_matrix = confusion_matrix(y, y_pred)\n",
    "accuracy = accuracy_score(y, y_pred)\n",
    "\n",
    "# Output the confusion matrix and accuracy\n",
    "print(\"Confusion Matrix:\\n\", conf_matrix)\n",
    "print(\"Accuracy:\", accuracy)\n"
   ]
  },
  {
   "cell_type": "code",
   "execution_count": null,
   "id": "777cbecc-931c-4d27-9d42-d5c80865e6f0",
   "metadata": {},
   "outputs": [],
   "source": []
  }
 ],
 "metadata": {
  "kernelspec": {
   "display_name": "Python 3 (ipykernel)",
   "language": "python",
   "name": "python3"
  },
  "language_info": {
   "codemirror_mode": {
    "name": "ipython",
    "version": 3
   },
   "file_extension": ".py",
   "mimetype": "text/x-python",
   "name": "python",
   "nbconvert_exporter": "python",
   "pygments_lexer": "ipython3",
   "version": "3.11.7"
  }
 },
 "nbformat": 4,
 "nbformat_minor": 5
}
